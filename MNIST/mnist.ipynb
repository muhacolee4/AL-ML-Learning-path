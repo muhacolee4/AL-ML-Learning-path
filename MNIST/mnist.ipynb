{
 "cells": [
  {
   "attachments": {},
   "cell_type": "markdown",
   "metadata": {},
   "source": [
    "# Problem definition\n",
    "The aim of this code is to build a machine learning model that can classify images of handwritten digits into their respective numerical values."
   ]
  },
  {
   "attachments": {},
   "cell_type": "markdown",
   "metadata": {},
   "source": [
    "# Data\n",
    "\n",
    " The dataset used for this task is the MNIST dataset, which is a collection of 70,000 grayscale images of handwritten digits, each of size 28x28 pixels."
   ]
  },
  {
   "attachments": {},
   "cell_type": "markdown",
   "metadata": {},
   "source": [
    "The code first imports the required libraries, including TensorFlow, NumPy, and Matplotlib. The MNIST dataset is then loaded using the TensorFlow Keras library. The dataset is split into a training set and a test set, each containing images and their respective labels."
   ]
  },
  {
   "cell_type": "code",
   "execution_count": 1,
   "metadata": {},
   "outputs": [],
   "source": [
    "# Importing the require libraries\n",
    "import os, cv2\n",
    "import numpy as np\n",
    "import matplotlib.pyplot as plt\n",
    "import tensorflow as tf"
   ]
  },
  {
   "cell_type": "code",
   "execution_count": 2,
   "metadata": {},
   "outputs": [
    {
     "data": {
      "text/plain": [
       "<module 'keras.api._v2.keras.datasets.mnist' from 'c:\\\\Users\\\\Engr M2j\\\\AppData\\\\Local\\\\Programs\\\\Python\\\\Python310\\\\lib\\\\site-packages\\\\keras\\\\api\\\\_v2\\\\keras\\\\datasets\\\\mnist\\\\__init__.py'>"
      ]
     },
     "execution_count": 2,
     "metadata": {},
     "output_type": "execute_result"
    }
   ],
   "source": [
    "# loading the dataset\n",
    "mnist=tf.keras.datasets.mnist\n",
    "mnist"
   ]
  },
  {
   "cell_type": "code",
   "execution_count": 3,
   "metadata": {},
   "outputs": [
    {
     "data": {
      "text/plain": [
       "array([7, 2, 1, 0, 4, 1, 4, 9, 5, 9], dtype=uint8)"
      ]
     },
     "execution_count": 3,
     "metadata": {},
     "output_type": "execute_result"
    }
   ],
   "source": [
    "\n",
    "(x_train, y_train), (x_test,y_test)=mnist.load_data()\n",
    "y_test[0:10]\n"
   ]
  },
  {
   "cell_type": "code",
   "execution_count": 4,
   "metadata": {},
   "outputs": [
    {
     "name": "stdout",
     "output_type": "stream",
     "text": [
      "[[<AxesSubplot: > <AxesSubplot: > <AxesSubplot: > <AxesSubplot: >\n",
      "  <AxesSubplot: >]\n",
      " [<AxesSubplot: > <AxesSubplot: > <AxesSubplot: > <AxesSubplot: >\n",
      "  <AxesSubplot: >]]\n",
      "Figure(1000x400)\n"
     ]
    },
    {
     "data": {
      "image/png": "[encoded data removed]",
      "text/plain": [
       "<Figure size 1000x400 with 10 Axes>"
      ]
     },
     "metadata": {},
     "output_type": "display_data"
    }
   ],
   "source": [
    "# plot the first 10 images from the test set\n",
    "fig, axs = plt.subplots(2, 5, figsize=(10, 4))\n",
    "# print (fig)\n",
    "print(axs)\n",
    "print(fig)\n",
    "for i in range(10):\n",
    "    ax = axs[i//5, i%5]\n",
    "    ax.imshow(x_test[i], cmap='gray')\n",
    "    ax.axis('off')\n",
    "    ax.set_title('Label: {}'.format(y_test[i]))\n",
    "plt.show()"
   ]
  },
  {
   "attachments": {},
   "cell_type": "markdown",
   "metadata": {},
   "source": [
    "# preprocessing\n",
    "The code below preprocess the data by normalizing the pixel values of the images. This is done to ensure that the pixel values fall within a common range, making it easier for the model to learn and generalize."
   ]
  },
  {
   "cell_type": "code",
   "execution_count": 5,
   "metadata": {},
   "outputs": [],
   "source": [
    "#preprocessing\n",
    "#normalizing the x_train and x_test\n",
    "\n",
    "x_train=tf.keras.utils.normalize(x_train,axis=1)\n",
    "x_test=tf.keras.utils.normalize(x_test,axis=1)"
   ]
  },
  {
   "attachments": {},
   "cell_type": "markdown",
   "metadata": {},
   "source": [
    "# Building the model\n",
    "A feedforward neural network model is built using the TensorFlow Keras Sequential API. The model has three dense layers, with the first layer being a Flatten layer that flattens the 2D input images into a 1D array. The two hidden layers have 128 neurons each and use the ReLU activation function. The output layer has 10 neurons (one for each digit from 0 to 9) and uses the softmax activation function to produce a probability distribution over the classes.\n",
    "\n",
    "# simple feedforward neural network"
   ]
  },
  {
   "cell_type": "code",
   "execution_count": 6,
   "metadata": {},
   "outputs": [],
   "source": [
    "#Buiding the models\n",
    "model=tf.keras.models.Sequential()\n",
    "model.add(tf.keras.layers.Flatten(input_shape=(28,28)))\n",
    "model.add(tf.keras.layers.Dense(128, activation='relu'))\n",
    "model.add(tf.keras.layers.Dense(128, activation='relu'))\n",
    "model.add(tf.keras.layers.Dense(128, activation='relu'))\n",
    "model.add(tf.keras.layers.Dense(128, activation='relu'))\n",
    "model.add(tf.keras.layers.Dense(10, activation='softmax'))"
   ]
  },
  {
   "attachments": {},
   "cell_type": "markdown",
   "metadata": {},
   "source": [
    "# compiling the model\n",
    "The model is then compiled using the Adam optimizer, sparse categorical cross-entropy loss function, and accuracy as the metric for evaluation. The summary of the model is printed to the console, which provides information about the number of parameters in the model and the layer-wise architecture of the model."
   ]
  },
  {
   "cell_type": "code",
   "execution_count": 7,
   "metadata": {},
   "outputs": [],
   "source": [
    "#Compiling the model\n",
    "model.compile(optimizer='adam', loss='sparse_categorical_crossentropy', metrics=['accuracy'])"
   ]
  },
  {
   "cell_type": "code",
   "execution_count": 8,
   "metadata": {},
   "outputs": [
    {
     "name": "stdout",
     "output_type": "stream",
     "text": [
      "Model: \"sequential\"\n",
      "_________________________________________________________________\n",
      " Layer (type)                Output Shape              Param #   \n",
      "=================================================================\n",
      " flatten (Flatten)           (None, 784)               0         \n",
      "                                                                 \n",
      " dense (Dense)               (None, 128)               100480    \n",
      "                                                                 \n",
      " dense_1 (Dense)             (None, 128)               16512     \n",
      "                                                                 \n",
      " dense_2 (Dense)             (None, 128)               16512     \n",
      "                                                                 \n",
      " dense_3 (Dense)             (None, 128)               16512     \n",
      "                                                                 \n",
      " dense_4 (Dense)             (None, 10)                1290      \n",
      "                                                                 \n",
      "=================================================================\n",
      "Total params: 151,306\n",
      "Trainable params: 151,306\n",
      "Non-trainable params: 0\n",
      "_________________________________________________________________\n"
     ]
    }
   ],
   "source": [
    "# Summary\n",
    "model.summary()"
   ]
  },
  {
   "attachments": {},
   "cell_type": "markdown",
   "metadata": {},
   "source": [
    "# Training the model\n",
    "\n",
    "Finally, the model is trained on the training data for 50 epochs using the fit() method. During training, the model learns to minimize the loss function and maximize the accuracy on the training data. The trained model can then be used to predict the classes of new images in the test set. \n",
    "# Modifying Training Parameter\n",
    "The model gave an accuracy of 0.9881 when training with two hidden layers and 50 epochs. There was a great improvement from 0.9881 to 0.9987 when the hidden layers was increased to 4 layers and 50 epochs. When the hidden layers was increased to 8, the accuracy reduced to 0.9984. The hidden layers was reduced to 4 and 200 epochs which gave the best accuracy of 0.9997."
   ]
  },
  {
   "cell_type": "code",
   "execution_count": 9,
   "metadata": {},
   "outputs": [
    {
     "name": "stdout",
     "output_type": "stream",
     "text": [
      "1875/1875 [==============================] - 12s 4ms/step - loss: 0.2521 - accuracy: 0.9226\n"
     ]
    },
    {
     "data": {
      "text/plain": [
       "<keras.callbacks.History at 0x24ff8f95c30>"
      ]
     },
     "execution_count": 9,
     "metadata": {},
     "output_type": "execute_result"
    }
   ],
   "source": [
    "# Training the model\n",
    "model.fit(x_train,y_train, epochs=1)"
   ]
  },
  {
   "attachments": {},
   "cell_type": "markdown",
   "metadata": {},
   "source": [
    "# predicting the first 10 images"
   ]
  },
  {
   "cell_type": "code",
   "execution_count": 10,
   "metadata": {},
   "outputs": [
    {
     "name": "stdout",
     "output_type": "stream",
     "text": [
      "1/1 [==============================] - 0s 175ms/step\n"
     ]
    },
    {
     "data": {
      "image/png": "[encoded data removed]",
      "text/plain": [
       "<Figure size 1000x400 with 10 Axes>"
      ]
     },
     "metadata": {},
     "output_type": "display_data"
    }
   ],
   "source": [
    "#predicting the first 10\n",
    "\n",
    "import numpy as np\n",
    "\n",
    "# predict the labels for the first 10 images\n",
    "predictions = model.predict(x_test[:10])\n",
    "\n",
    "# convert the predictions from probabilities to class labels\n",
    "predicted_labels = np.argmax(predictions, axis=1)\n",
    "\n",
    "# display the predicted label, true label, and image for each image\n",
    "fig, axs = plt.subplots(2, 5, figsize=(10, 4))\n",
    "for i in range(10):\n",
    "    ax = axs[i//5, i%5]\n",
    "    ax.imshow(x_test[i], cmap='gray')\n",
    "    ax.axis('off')\n",
    "    ax.set_title('Predicted:{} True:{}'.format(predicted_labels[i], y_test[i]))\n",
    "plt.show()\n"
   ]
  },
  {
   "attachments": {},
   "cell_type": "markdown",
   "metadata": {},
   "source": [
    "# predict the labels for the last 10 images\n"
   ]
  },
  {
   "cell_type": "code",
   "execution_count": 11,
   "metadata": {},
   "outputs": [
    {
     "name": "stdout",
     "output_type": "stream",
     "text": [
      "1/1 [==============================] - 0s 26ms/step\n"
     ]
    },
    {
     "data": {
      "image/png": "[encoded data removed]",
      "text/plain": [
       "<Figure size 1000x500 with 10 Axes>"
      ]
     },
     "metadata": {},
     "output_type": "display_data"
    }
   ],
   "source": [
    "\n",
    "\n",
    "# predict the labels for the last 10 images\n",
    "predictions = model.predict(x_test[-10:])\n",
    "\n",
    "# convert the predictions from probabilities to class labels\n",
    "predicted_labels = np.argmax(predictions, axis=1)\n",
    "\n",
    "# display the predicted label, true label, and image for each image\n",
    "fig, axs = plt.subplots(2, 5, figsize=(10, 5))\n",
    "for i in range(10):\n",
    "    ax = axs[i//5, i%5]\n",
    "    ax.imshow(x_test[-10+i], cmap='gray')\n",
    "    ax.axis('off')\n",
    "    ax.set_title('Predicted: {}'.format(predicted_labels[i]))\n",
    "plt.show()\n"
   ]
  },
  {
   "attachments": {},
   "cell_type": "markdown",
   "metadata": {},
   "source": [
    "# Predicting new images created with paint"
   ]
  },
  {
   "cell_type": "code",
   "execution_count": 17,
   "metadata": {},
   "outputs": [
    {
     "ename": "AttributeError",
     "evalue": "module 'keras.preprocessing.image' has no attribute 'load_img'",
     "output_type": "error",
     "traceback": [
      "\u001b[1;31m---------------------------------------------------------------------------\u001b[0m",
      "\u001b[1;31mAttributeError\u001b[0m                            Traceback (most recent call last)",
      "Cell \u001b[1;32mIn[17], line 10\u001b[0m\n\u001b[0;32m      8\u001b[0m \u001b[39m# Load your new image data\u001b[39;00m\n\u001b[0;32m      9\u001b[0m img_path \u001b[39m=\u001b[39m \u001b[39m'\u001b[39m\u001b[39mimages/img_1.png\u001b[39m\u001b[39m'\u001b[39m\n\u001b[1;32m---> 10\u001b[0m img \u001b[39m=\u001b[39m image\u001b[39m.\u001b[39;49mload_img(img_path, target_size\u001b[39m=\u001b[39m(\u001b[39m28\u001b[39m, \u001b[39m28\u001b[39m), color_mode\u001b[39m=\u001b[39m\u001b[39m'\u001b[39m\u001b[39mgrayscale\u001b[39m\u001b[39m'\u001b[39m)\n\u001b[0;32m     12\u001b[0m \u001b[39m# Convert the image to a numpy array\u001b[39;00m\n\u001b[0;32m     13\u001b[0m x \u001b[39m=\u001b[39m image\u001b[39m.\u001b[39mimg_to_array(img)\n",
      "\u001b[1;31mAttributeError\u001b[0m: module 'keras.preprocessing.image' has no attribute 'load_img'"
     ]
    }
   ],
   "source": [
    "import numpy as np\n",
    "from keras.preprocessing import image\n",
    "from tensorflow.keras.preprocessing.image import load_img, img_to_array\n",
    "\n",
    "# Load the pre-trained model\n",
    "model = ...\n",
    "\n",
    "# Load your new image data\n",
    "img_path = 'images/img_1.png'\n",
    "img = image.load_img(img_path, target_size=(28, 28), color_mode='grayscale')\n",
    "\n",
    "# Convert the image to a numpy array\n",
    "x = image.img_to_array(img)\n",
    "x = x.astype('float32') / 255.0\n",
    "\n",
    "# Reshape the data to match the input shape of the model\n",
    "x = np.expand_dims(x, axis=0)\n",
    "\n",
    "# Use the model to predict the class probabilities for the new image\n",
    "preds = model.predict(x)\n",
    "\n",
    "# Print the predicted class probabilities\n",
    "print(preds)\n"
   ]
  }
 ],
 "metadata": {
  "kernelspec": {
   "display_name": "Python 3",
   "language": "python",
   "name": "python3"
  },
  "language_info": {
   "codemirror_mode": {
    "name": "ipython",
    "version": 3
   },
   "file_extension": ".py",
   "mimetype": "text/x-python",
   "name": "python",
   "nbconvert_exporter": "python",
   "pygments_lexer": "ipython3",
   "version": "3.10.7"
  },
  "orig_nbformat": 4,
  "vscode": {
   "interpreter": {
    "hash": "dec4b3ec80bba7a24b476a97e44dfaa510007cc780d4f4132456cc7e225c9374"
   }
  }
 },
 "nbformat": 4,
 "nbformat_minor": 2
}
